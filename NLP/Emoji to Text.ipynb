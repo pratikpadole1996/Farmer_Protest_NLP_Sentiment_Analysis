{
 "cells": [
  {
   "cell_type": "code",
   "execution_count": 2,
   "metadata": {},
   "outputs": [
    {
     "name": "stdout",
     "output_type": "stream",
     "text": [
      "Collecting demoji\n",
      "  Downloading demoji-1.1.0-py3-none-any.whl (42 kB)\n",
      "Installing collected packages: demoji\n",
      "Successfully installed demoji-1.1.0\n"
     ]
    }
   ],
   "source": [
    "!pip install demoji"
   ]
  },
  {
   "cell_type": "code",
   "execution_count": 4,
   "metadata": {},
   "outputs": [
    {
     "name": "stdout",
     "output_type": "stream",
     "text": [
      "Collecting emot\n",
      "  Downloading emot-3.1-py3-none-any.whl (61 kB)\n",
      "Installing collected packages: emot\n",
      "Successfully installed emot-3.1\n"
     ]
    }
   ],
   "source": [
    "!pip install emot"
   ]
  },
  {
   "cell_type": "code",
   "execution_count": 18,
   "metadata": {
    "scrolled": true
   },
   "outputs": [
    {
     "name": "stderr",
     "output_type": "stream",
     "text": [
      "C:\\Users\\Admin\\AppData\\Local\\Temp\\ipykernel_4264\\9562586.py:3: FutureWarning: The demoji.download_codes attribute is deprecated and will be removed from demoji in a future version. It is an unused attribute as emoji codes are now distributed directly with the demoji package.\n",
      "  demoji.download_codes()\n"
     ]
    }
   ],
   "source": [
    "import demoji\n",
    " \n",
    "demoji.download_codes()\n",
    "\n",
    "import emot\n",
    "import re\n",
    "\n",
    "\n",
    "from emot.emo_unicode import UNICODE_EMOJI\n",
    "from emot.emo_unicode import EMOTICONS_EMO"
   ]
  },
  {
   "cell_type": "code",
   "execution_count": 26,
   "metadata": {},
   "outputs": [],
   "source": [
    "def convert_emojis(text):\n",
    "    for abc in UNICODE_EMOJI:\n",
    "        text = text.replace(abc, \"_\".join(UNICODE_EMOJI[abc].replace(\",\",\"\").replace(\":\",\"\").split()))\n",
    "    return text\n"
   ]
  },
  {
   "cell_type": "code",
   "execution_count": 20,
   "metadata": {},
   "outputs": [],
   "source": [
    "# Example\n",
    "text1 = \"Hilarious 😂. The feeling 😍 of making a sale 😎, The feeling of actually fulfilling orders 😒\""
   ]
  },
  {
   "cell_type": "code",
   "execution_count": 21,
   "metadata": {},
   "outputs": [
    {
     "data": {
      "text/plain": [
       "{'😂': 'face with tears of joy',\n",
       " '😒': 'unamused face',\n",
       " '😎': 'smiling face with sunglasses',\n",
       " '😍': 'smiling face with heart-eyes'}"
      ]
     },
     "execution_count": 21,
     "metadata": {},
     "output_type": "execute_result"
    }
   ],
   "source": [
    "demoji.findall(text1)"
   ]
  },
  {
   "cell_type": "code",
   "execution_count": 22,
   "metadata": {},
   "outputs": [
    {
     "data": {
      "text/plain": [
       "'Hilarious face_with_tears_of_joy. The feeling smiling_face_with_heart-eyes of making a sale smiling_face_with_sunglasses, The feeling of actually fulfilling orders unamused_face'"
      ]
     },
     "execution_count": 22,
     "metadata": {},
     "output_type": "execute_result"
    }
   ],
   "source": [
    "convert_emojis(text1)"
   ]
  },
  {
   "cell_type": "code",
   "execution_count": 23,
   "metadata": {},
   "outputs": [],
   "source": [
    "text=\"\"\"Happy anniversary! ❤ Next stop: Paris! ✈ #vacation,                             \n",
    "Haha, BBQ on the beach, engage smug mode! 😍 😎 ❤ 🎉 #vacation,                  \n",
    "getting ready for Saturday night 🍕 #yum #weekend 😎,                            \n",
    "Say it with me - I NEED A #VACATION!!! ☹,                              \n",
    "😎 Chilling 😎 at home for the first time in ages…This is the life,               \n",
    "can’t believe my #vacation is over 😢 so unfair                                 \n",
    "Can’t wait for tennis this #weekend 🎾🍓🥂 😀\"\"\""
   ]
  },
  {
   "cell_type": "code",
   "execution_count": 24,
   "metadata": {},
   "outputs": [
    {
     "data": {
      "text/plain": [
       "{'🎉': 'party popper',\n",
       " '✈': 'airplane',\n",
       " '❤': 'red heart',\n",
       " '🍓': 'strawberry',\n",
       " '🍕': 'pizza',\n",
       " '😎': 'smiling face with sunglasses',\n",
       " '☹': 'frowning face',\n",
       " '😢': 'crying face',\n",
       " '🥂': 'clinking glasses',\n",
       " '🎾': 'tennis',\n",
       " '😍': 'smiling face with heart-eyes',\n",
       " '😀': 'grinning face'}"
      ]
     },
     "execution_count": 24,
     "metadata": {},
     "output_type": "execute_result"
    }
   ],
   "source": [
    "demoji.findall(text)"
   ]
  },
  {
   "cell_type": "code",
   "execution_count": 25,
   "metadata": {},
   "outputs": [
    {
     "data": {
      "text/plain": [
       "'Happy anniversary! red_heart Next stop: Paris! airplane #vacation,                             \\nHaha, BBQ on the beach, engage smug mode! smiling_face_with_heart-eyes smiling_face_with_sunglasses red_heart party_popper #vacation,                  \\ngetting ready for Saturday night pizza #yum #weekend smiling_face_with_sunglasses,                            \\nSay it with me - I NEED A #VACATION!!! frowning_face,                              \\nsmiling_face_with_sunglasses Chilling smiling_face_with_sunglasses at home for the first time in ages…This is the life,               \\ncan’t believe my #vacation is over crying_face so unfair                                 \\nCan’t wait for tennis this #weekend tennisstrawberryclinking_glasses grinning_face'"
      ]
     },
     "execution_count": 25,
     "metadata": {},
     "output_type": "execute_result"
    }
   ],
   "source": [
    "convert_emojis(text)"
   ]
  },
  {
   "cell_type": "code",
   "execution_count": null,
   "metadata": {},
   "outputs": [],
   "source": []
  }
 ],
 "metadata": {
  "kernelspec": {
   "display_name": "Python 3 (ipykernel)",
   "language": "python",
   "name": "python3"
  },
  "language_info": {
   "codemirror_mode": {
    "name": "ipython",
    "version": 3
   },
   "file_extension": ".py",
   "mimetype": "text/x-python",
   "name": "python",
   "nbconvert_exporter": "python",
   "pygments_lexer": "ipython3",
   "version": "3.9.12"
  }
 },
 "nbformat": 4,
 "nbformat_minor": 4
}
